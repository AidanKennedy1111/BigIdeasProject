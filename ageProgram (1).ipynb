{
 "cells": [
  {
   "cell_type": "code",
   "execution_count": 2,
   "metadata": {},
   "outputs": [
    {
     "name": "stdin",
     "output_type": "stream",
     "text": [
      "What is your name hev \n",
      "How old are you 102\n"
     ]
    },
    {
     "name": "stdout",
     "output_type": "stream",
     "text": [
      "Invalid age, enter an age between 0 and 100\n"
     ]
    }
   ],
   "source": [
    "name = input(\"What is your name\")\n",
    "try:\n",
    "    age = int(input(\"How old are you\"))\n",
    "except: \n",
    "    print(\"Enter an int number\")\n",
    "else:\n",
    "    if age >0 and age <100:\n",
    "        if age >= 100:\n",
    "            print(\"You are old and are going to die soon. RIP\")\n",
    "        elif age >=70:\n",
    "            print(\"You are a senior citizen\")\n",
    "\n",
    "        elif age >= 50:\n",
    "            print (\"You are old\")\n",
    "        elif age >= 18: \n",
    "                print(\"You're an adult\")\n",
    "        elif age >= 12:\n",
    "            print(\"You are a teenager\")\n",
    "        elif age  >= 6:\n",
    "            print(\"You are a child\")\n",
    "        else: \n",
    "            print(\"You are a baby\")\n",
    "    else: \n",
    "        print(\"Invalid age, enter an age between 0 and 100\")"
   ]
  },
  {
   "cell_type": "code",
   "execution_count": null,
   "metadata": {},
   "outputs": [],
   "source": []
  }
 ],
 "metadata": {
  "kernelspec": {
   "display_name": "Python 3",
   "language": "python",
   "name": "python3"
  },
  "language_info": {
   "codemirror_mode": {
    "name": "ipython",
    "version": 3
   },
   "file_extension": ".py",
   "mimetype": "text/x-python",
   "name": "python",
   "nbconvert_exporter": "python",
   "pygments_lexer": "ipython3",
   "version": "3.8.3"
  }
 },
 "nbformat": 4,
 "nbformat_minor": 4
}
